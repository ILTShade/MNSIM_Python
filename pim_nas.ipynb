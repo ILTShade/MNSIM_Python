{
 "cells": [],
 "metadata": {
  "interpreter": {
   "hash": "6495aa326f3f36a1d541e534dccc17f5ddfee7c12835cbd7c91b4309b6a0dbf4"
  },
  "kernelspec": {
   "display_name": "Python 3.7.3 64-bit ('awnas': conda)",
   "name": "python3"
  },
  "language_info": {
   "codemirror_mode": {
    "name": "ipython",
    "version": 3
   },
   "file_extension": ".py",
   "mimetype": "text/x-python",
   "name": "python",
   "nbconvert_exporter": "python",
   "pygments_lexer": "ipython3",
   "version": "3.7.3"
  },
  "orig_nbformat": 4
 },
 "nbformat": 4,
 "nbformat_minor": 2
}
